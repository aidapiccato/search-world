{
 "cells": [
  {
   "cell_type": "code",
   "execution_count": 1,
   "metadata": {},
   "outputs": [],
   "source": [
    "%load_ext autoreload\n",
    "%autoreload 2"
   ]
  },
  {
   "cell_type": "code",
   "execution_count": 2,
   "metadata": {},
   "outputs": [],
   "source": [
    "import numpy as np\n",
    "import sys\n",
    "import os\n",
    "sys.path.append(\"../\")\n",
    "from search_world.utils.analysis_utils import get_trials_dataframe, get_dataset_paths, get_trials_features, get_consistency, get_condition_df, get_condition_features\n",
    "import matplotlib.pyplot as plt\n",
    "import seaborn as sns\n",
    "import mplcursors\n",
    "\n",
    "%matplotlib widget"
   ]
  },
  {
   "cell_type": "code",
   "execution_count": 3,
   "metadata": {},
   "outputs": [
    {
     "name": "stdout",
     "output_type": "stream",
     "text": [
      "Index(['MLSAgent', 'QMDPAgent'], dtype='object', name='name')\n"
     ]
    }
   ],
   "source": [
    "base_dir = '../logs'\n",
    "\n",
    "all_job_ids = [f for f in os.scandir(base_dir) if f.is_dir() and f.path != os.path.join(base_dir,'slurm_logs')]\n",
    "df = get_trials_features(get_trials_dataframe(get_dataset_paths(job_ids=all_job_ids, base_dir=''), overwrite=False))\n",
    "condition_df = get_condition_features(get_condition_df(df, condition=['length', 'n_corr', 'agent_init_pos', 'target_pos']), df)\n",
    "consistency_df = get_consistency(condition_df, df, condition=['length', 'n_corr', 'agent_init_pos', 'target_pos'])"
   ]
  },
  {
   "cell_type": "code",
   "execution_count": 5,
   "metadata": {},
   "outputs": [
    {
     "data": {
      "text/plain": [
       "Index(['trial_index', 'dataset_index', 'action', 'done', 'info', 'job_id',\n",
       "       'obs', 'reward', 'step', 'env', 'model', 'length', 'n_corr',\n",
       "       'target_pos', 'agent_init_pos', 'agent_initial_state', 'target_state',\n",
       "       'maze', 'name', 'horizon', 'lambda', 'agent_dist'],\n",
       "      dtype='object')"
      ]
     },
     "execution_count": 5,
     "metadata": {},
     "output_type": "execute_result"
    }
   ],
   "source": [
    "df.columns"
   ]
  },
  {
   "cell_type": "markdown",
   "metadata": {},
   "source": [
    "# Consistency across agents"
   ]
  },
  {
   "cell_type": "code",
   "execution_count": 707,
   "metadata": {},
   "outputs": [
    {
     "data": {
      "image/png": "[encoded data removed]",
      "text/plain": [
       "<Figure size 432x288 with 2 Axes>"
      ]
     },
     "metadata": {
      "needs_background": "light"
     },
     "output_type": "display_data"
    }
   ],
   "source": [
    "%matplotlib inline\n",
    "f, ax = plt.subplots(1, 1)\n",
    "im = ax.imshow(consistency_df)\n",
    "ax.set_xticks([0, 1])\n",
    "ax.set_yticks([0, 1])\n",
    "ax.set_xticklabels(consistency_df.columns)\n",
    "ax.set_yticklabels(consistency_df.columns)\n",
    "plt.colorbar(im)\n",
    "plt.show()"
   ]
  },
  {
   "cell_type": "markdown",
   "metadata": {},
   "source": [
    "## MLS-QMDP"
   ]
  },
  {
   "cell_type": "code",
   "execution_count": 713,
   "metadata": {},
   "outputs": [
    {
     "data": {
      "application/vnd.jupyter.widget-view+json": {
       "model_id": "76779d6fe177499b96f3958defb7fb16",
       "version_major": 2,
       "version_minor": 0
      },
      "text/plain": [
       "Canvas(toolbar=Toolbar(toolitems=[('Home', 'Reset original view', 'home', 'home'), ('Back', 'Back to previous …"
      ]
     },
     "metadata": {},
     "output_type": "display_data"
    }
   ],
   "source": [
    "%matplotlib widget\n",
    "mls_df = condition_df[condition_df.index.get_level_values('name') == 'MLSAgent'].reset_index().set_index(condition)\n",
    "qmdp_df = condition_df[condition_df.index.get_level_values('name') == 'QMDPAgent'].reset_index().set_index(condition)\n",
    "merged = mls_df.merge(qmdp_df, on=condition, suffixes=['_mls', '_qmdp'])\n",
    "conditions = merged.index\n",
    "f, ax = plt.subplots(1, 1)\n",
    "f.suptitle('MLS-QMDP consistency')\n",
    "sc = sns.scatterplot(data=merged, x=\"error_mls\", y=\"error_qmdp\", ax=ax)\n",
    "\n",
    "cursor = mplcursors.cursor(sc, hover=True)\n",
    "# # by default the annotation displays the xy positions\n",
    "# # this is to change it to the countries name\n",
    "@cursor.connect(\"add\")\n",
    "def on_add(sel):\n",
    "    sel.annotation.set(text=\"length=%d, n_corr=%d, agent_init_pos=%d, target_pos=%d\"%(conditions[sel.index]))\n",
    "\n",
    "plt.show()"
   ]
  },
  {
   "cell_type": "code",
   "execution_count": null,
   "metadata": {},
   "outputs": [],
   "source": []
  }
 ],
 "metadata": {
  "kernelspec": {
   "display_name": "py37",
   "language": "python",
   "name": "py37"
  },
  "language_info": {
   "codemirror_mode": {
    "name": "ipython",
    "version": 3
   },
   "file_extension": ".py",
   "mimetype": "text/x-python",
   "name": "python",
   "nbconvert_exporter": "python",
   "pygments_lexer": "ipython3",
   "version": "3.7.9"
  }
 },
 "nbformat": 4,
 "nbformat_minor": 4
}
