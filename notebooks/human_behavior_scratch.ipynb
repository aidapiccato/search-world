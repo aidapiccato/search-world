{
 "cells": [
  {
   "cell_type": "markdown",
   "source": [
    "<h1>Table of Contents<span class=\"tocSkip\"></span></h1>\n",
    "<div class=\"toc\"><ul class=\"toc-item\"></ul></div>"
   ],
   "metadata": {
    "toc": true
   }
  },
  {
   "cell_type": "code",
   "execution_count": 3,
   "source": [
    "%load_ext autoreload\n",
    "%autoreload 2"
   ],
   "outputs": [],
   "metadata": {}
  },
  {
   "cell_type": "code",
   "execution_count": 4,
   "source": [
    "import os\n",
    "import sys\n",
    "sys.path.append('../')\n",
    "from search_world.utils.moog_utils import get_trial_paths, get_trial_dataframe\n",
    "import matplotlib.pyplot as plt\n",
    "from matplotlib import cm"
   ],
   "outputs": [],
   "metadata": {}
  },
  {
   "cell_type": "code",
   "execution_count": 70,
   "source": [
    "DATASETS = ['/Users/aidapiccato/search-world-1/logs/symm_corr/0/2021_11_10_17_06_56']"
   ],
   "outputs": [],
   "metadata": {}
  },
  {
   "cell_type": "code",
   "execution_count": 71,
   "source": [
    "dataset_trial_paths = []\n",
    "for i, path in enumerate(DATASETS):\n",
    "    print(os.path.basename(path))\n",
    "    trial_paths = get_trial_paths(path)\n",
    "    dataset_trial_paths.append(trial_paths)\n",
    "\n",
    "dataset_index = 0\n",
    "for trial_paths in dataset_trial_paths[1:]:\n",
    "    dataset_index += 1\n",
    "    new_df = get_trial_dataframe.get_trial_dataframe(trial_paths, dataset_index=dataset_index)\n",
    "    trial_df = trial_df.append(new_df, ignore_index=True)"
   ],
   "outputs": [
    {
     "output_type": "stream",
     "name": "stdout",
     "text": [
      "2021_11_10_17_06_56\n",
      "Number of trials:  3\n"
     ]
    }
   ],
   "metadata": {}
  },
  {
   "cell_type": "code",
   "execution_count": 107,
   "source": [
    "dataset_index = 0\n",
    "trial_df = get_trial_dataframe(dataset_trial_paths[0], dataset_index=dataset_index)"
   ],
   "outputs": [],
   "metadata": {}
  },
  {
   "cell_type": "code",
   "execution_count": 109,
   "source": [
    "trial_df.obs"
   ],
   "outputs": [
    {
     "output_type": "execute_result",
     "data": {
      "text/plain": [
       "0    [2, 4, 5, 0]\n",
       "1    [2, 4, 5, 0]\n",
       "2    [2, 4, 5, 0]\n",
       "Name: obs, dtype: object"
      ]
     },
     "metadata": {},
     "execution_count": 109
    }
   ],
   "metadata": {}
  }
 ],
 "metadata": {
  "kernelspec": {
   "name": "python3",
   "display_name": "Python 3.8.5 64-bit ('py3': conda)"
  },
  "language_info": {
   "codemirror_mode": {
    "name": "ipython",
    "version": 3
   },
   "file_extension": ".py",
   "mimetype": "text/x-python",
   "name": "python",
   "nbconvert_exporter": "python",
   "pygments_lexer": "ipython3",
   "version": "3.8.5"
  },
  "toc": {
   "base_numbering": 1,
   "nav_menu": {},
   "number_sections": true,
   "sideBar": true,
   "skip_h1_title": false,
   "title_cell": "Table of Contents",
   "title_sidebar": "Contents",
   "toc_cell": true,
   "toc_position": {},
   "toc_section_display": true,
   "toc_window_display": false
  },
  "varInspector": {
   "cols": {
    "lenName": 16,
    "lenType": 16,
    "lenVar": 40
   },
   "kernels_config": {
    "python": {
     "delete_cmd_postfix": "",
     "delete_cmd_prefix": "del ",
     "library": "var_list.py",
     "varRefreshCmd": "print(var_dic_list())"
    },
    "r": {
     "delete_cmd_postfix": ") ",
     "delete_cmd_prefix": "rm(",
     "library": "var_list.r",
     "varRefreshCmd": "cat(var_dic_list()) "
    }
   },
   "types_to_exclude": [
    "module",
    "function",
    "builtin_function_or_method",
    "instance",
    "_Feature"
   ],
   "window_display": false
  },
  "interpreter": {
   "hash": "adabda12230d15d20b6896454d5d0b0c82c1e960d78ea3bd0789bfb3fc9ee901"
  }
 },
 "nbformat": 4,
 "nbformat_minor": 5
}