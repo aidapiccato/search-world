{
 "cells": [
  {
   "cell_type": "markdown",
   "id": "underlying-light",
   "metadata": {
    "toc": true
   },
   "source": [
    "<h1>Table of Contents<span class=\"tocSkip\"></span></h1>\n",
    "<div class=\"toc\"><ul class=\"toc-item\"></ul></div>"
   ]
  },
  {
   "cell_type": "code",
   "execution_count": 1,
   "id": "lesbian-backing",
   "metadata": {},
   "outputs": [],
   "source": [
    "%load_ext autoreload\n",
    "%autoreload 2"
   ]
  },
  {
   "cell_type": "code",
   "execution_count": 2,
   "id": "painted-domain",
   "metadata": {},
   "outputs": [],
   "source": [
    "import numpy as np\n",
    "import sys\n",
    "import os\n",
    "sys.path.append(\"../\")\n",
    "from search_world.utils.analysis_utils import get_trials_dataframe, get_dataset_paths, get_trials_features, get_consistency, get_condition_df, get_condition_features\n",
    "from search_world.utils.moog_utils import get_trial_paths, get_trial_dataframe\n",
    "import matplotlib.pyplot as plt\n",
    "import seaborn as sns\n",
    "# import mplcursors\n",
    "import pandas as pd\n",
    "%matplotlib inline"
   ]
  },
  {
   "cell_type": "code",
   "execution_count": 15,
   "id": "nutritional-drunk",
   "metadata": {},
   "outputs": [
    {
     "name": "stdout",
     "output_type": "stream",
     "text": [
      "Number of trials:  53\n",
      "Number of trials:  93\n"
     ]
    },
    {
     "ename": "NameError",
     "evalue": "name 'agent_df' is not defined",
     "output_type": "error",
     "traceback": [
      "\u001b[0;31m---------------------------------------------------------------------------\u001b[0m",
      "\u001b[0;31mNameError\u001b[0m                                 Traceback (most recent call last)",
      "\u001b[0;32m<ipython-input-15-b2705118d7ae>\u001b[0m in \u001b[0;36m<module>\u001b[0;34m\u001b[0m\n\u001b[1;32m     16\u001b[0m \u001b[0mtrial_df\u001b[0m \u001b[0;34m=\u001b[0m \u001b[0mpd\u001b[0m\u001b[0;34m.\u001b[0m\u001b[0mconcat\u001b[0m\u001b[0;34m(\u001b[0m\u001b[0mtrial_df\u001b[0m\u001b[0;34m)\u001b[0m\u001b[0;34m\u001b[0m\u001b[0;34m\u001b[0m\u001b[0m\n\u001b[1;32m     17\u001b[0m \u001b[0mhuman_df\u001b[0m \u001b[0;34m=\u001b[0m \u001b[0mget_trials_features\u001b[0m\u001b[0;34m(\u001b[0m\u001b[0mtrial_df\u001b[0m\u001b[0;34m)\u001b[0m\u001b[0;34m\u001b[0m\u001b[0;34m\u001b[0m\u001b[0m\n\u001b[0;32m---> 18\u001b[0;31m \u001b[0mhuman_df\u001b[0m \u001b[0;34m=\u001b[0m \u001b[0mhuman_df\u001b[0m\u001b[0;34m[\u001b[0m\u001b[0magent_df\u001b[0m\u001b[0;34m.\u001b[0m\u001b[0mcolumns\u001b[0m\u001b[0;34m]\u001b[0m\u001b[0;34m\u001b[0m\u001b[0;34m\u001b[0m\u001b[0m\n\u001b[0m",
      "\u001b[0;31mNameError\u001b[0m: name 'agent_df' is not defined"
     ]
    }
   ],
   "source": [
    "human_base_dir = '../logs'\n",
    "dataset_paths = ['../logs/symm_corr/2/2021_11_11_10_47_01', '../logs/symm_corr/2/2021_11_11_15_38_19']\n",
    "\n",
    "dataset_trial_paths = []\n",
    "for i, path in enumerate(dataset_paths): \n",
    "    trial_paths = get_trial_paths(path)\n",
    "    dataset_trial_paths.append(trial_paths)\n",
    "\n",
    "dataset_index = 0\n",
    "trial_df = []\n",
    "for trial_paths in dataset_trial_paths:\n",
    "    dataset_index += 1\n",
    "    new_df =  get_trial_dataframe(trial_paths, dataset_index=dataset_index)\n",
    "    trial_df.append(new_df)\n",
    "\n",
    "trial_df = pd.concat(trial_df)\n",
    "human_df = get_trials_features(trial_df)\n",
    "human_df = human_df[agent_df.columns]"
   ]
  },
  {
   "cell_type": "code",
   "execution_count": null,
   "id": "advised-secretariat",
   "metadata": {},
   "outputs": [],
   "source": []
  }
 ],
 "metadata": {
  "kernelspec": {
   "display_name": "py3",
   "language": "python",
   "name": "py3"
  },
  "language_info": {
   "codemirror_mode": {
    "name": "ipython",
    "version": 3
   },
   "file_extension": ".py",
   "mimetype": "text/x-python",
   "name": "python",
   "nbconvert_exporter": "python",
   "pygments_lexer": "ipython3",
   "version": "3.8.5"
  },
  "toc": {
   "base_numbering": 1,
   "nav_menu": {},
   "number_sections": true,
   "sideBar": true,
   "skip_h1_title": false,
   "title_cell": "Table of Contents",
   "title_sidebar": "Contents",
   "toc_cell": true,
   "toc_position": {},
   "toc_section_display": true,
   "toc_window_display": false
  },
  "varInspector": {
   "cols": {
    "lenName": 16,
    "lenType": 16,
    "lenVar": 40
   },
   "kernels_config": {
    "python": {
     "delete_cmd_postfix": "",
     "delete_cmd_prefix": "del ",
     "library": "var_list.py",
     "varRefreshCmd": "print(var_dic_list())"
    },
    "r": {
     "delete_cmd_postfix": ") ",
     "delete_cmd_prefix": "rm(",
     "library": "var_list.r",
     "varRefreshCmd": "cat(var_dic_list()) "
    }
   },
   "types_to_exclude": [
    "module",
    "function",
    "builtin_function_or_method",
    "instance",
    "_Feature"
   ],
   "window_display": false
  }
 },
 "nbformat": 4,
 "nbformat_minor": 5
}
