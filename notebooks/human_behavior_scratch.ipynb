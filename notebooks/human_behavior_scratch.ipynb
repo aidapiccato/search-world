{
 "cells": [
  {
   "cell_type": "markdown",
   "id": "accessory-science",
   "metadata": {
    "toc": true
   },
   "source": [
    "<h1>Table of Contents<span class=\"tocSkip\"></span></h1>\n",
    "<div class=\"toc\"><ul class=\"toc-item\"></ul></div>"
   ]
  },
  {
   "cell_type": "code",
   "execution_count": 1,
   "id": "rural-profession",
   "metadata": {},
   "outputs": [],
   "source": [
    "%load_ext autoreload\n",
    "%autoreload 2"
   ]
  },
  {
   "cell_type": "code",
   "execution_count": 2,
   "id": "prostate-lying",
   "metadata": {},
   "outputs": [],
   "source": [
    "import numpy as np\n",
    "import sys\n",
    "import os\n",
    "sys.path.append(\"../\")\n",
    "from search_world.utils.analysis_utils import get_trials_dataframe, get_dataset_paths, get_trials_features, get_consistency, get_condition_df, get_condition_features\n",
    "from search_world.utils.moog_utils import get_trial_paths, get_trial_dataframe\n",
    "import matplotlib.pyplot as plt\n",
    "import seaborn as sns\n",
    "# import mplcursors\n",
    "import pandas as pd\n",
    "%matplotlib inline"
   ]
  },
  {
   "cell_type": "code",
   "execution_count": null,
   "id": "delayed-detail",
   "metadata": {},
   "outputs": [],
   "source": [
    "human_base_dir = '../logs'\n",
    "dataset_paths = ['../logs/symm_corr/2/2021_11_11_10_47_01', '../logs/symm_corr/2/2021_11_11_15_38_19']\n",
    "\n",
    "dataset_trial_paths = []\n",
    "for i, path in enumerate(dataset_paths): \n",
    "    trial_paths = get_trial_paths(path)\n",
    "    dataset_trial_paths.append(trial_paths)\n",
    "\n",
    "dataset_index = 0\n",
    "trial_df = []\n",
    "for trial_paths in dataset_trial_paths:\n",
    "    dataset_index += 1\n",
    "    new_df =  get_trial_dataframe(trial_paths, dataset_index=dataset_index)\n",
    "    trial_df.append(new_df)\n",
    "\n",
    "trial_df = pd.concat(trial_df)\n",
    "human_df = get_trials_features(trial_df)\n",
    "human_df = human_df[agent_df.columns]"
   ]
  },
  {
   "cell_type": "code",
   "execution_count": null,
   "id": "outdoor-scale",
   "metadata": {},
   "outputs": [],
   "source": []
  }
 ],
 "metadata": {
  "kernelspec": {
   "display_name": "py3",
   "language": "python",
   "name": "py3"
  },
  "language_info": {
   "codemirror_mode": {
    "name": "ipython",
    "version": 3
   },
   "file_extension": ".py",
   "mimetype": "text/x-python",
   "name": "python",
   "nbconvert_exporter": "python",
   "pygments_lexer": "ipython3",
   "version": "3.8.5"
  },
  "toc": {
   "base_numbering": 1,
   "nav_menu": {},
   "number_sections": true,
   "sideBar": true,
   "skip_h1_title": false,
   "title_cell": "Table of Contents",
   "title_sidebar": "Contents",
   "toc_cell": true,
   "toc_position": {},
   "toc_section_display": true,
   "toc_window_display": false
  },
  "varInspector": {
   "cols": {
    "lenName": 16,
    "lenType": 16,
    "lenVar": 40
   },
   "kernels_config": {
    "python": {
     "delete_cmd_postfix": "",
     "delete_cmd_prefix": "del ",
     "library": "var_list.py",
     "varRefreshCmd": "print(var_dic_list())"
    },
    "r": {
     "delete_cmd_postfix": ") ",
     "delete_cmd_prefix": "rm(",
     "library": "var_list.r",
     "varRefreshCmd": "cat(var_dic_list()) "
    }
   },
   "types_to_exclude": [
    "module",
    "function",
    "builtin_function_or_method",
    "instance",
    "_Feature"
   ],
   "window_display": false
  }
 },
 "nbformat": 4,
 "nbformat_minor": 5
}
