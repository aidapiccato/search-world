{
 "cells": [
  {
   "cell_type": "markdown",
   "id": "growing-constitution",
   "metadata": {
    "toc": true
   },
   "source": [
    "<h1>Table of Contents<span class=\"tocSkip\"></span></h1>\n",
    "<div class=\"toc\"><ul class=\"toc-item\"></ul></div>"
   ]
  },
  {
   "cell_type": "code",
   "execution_count": 10,
   "id": "passing-diamond",
   "metadata": {},
   "outputs": [],
   "source": [
    "%load_ext autoreload\n",
    "%autoreload 2"
   ]
  },
  {
   "cell_type": "code",
   "execution_count": 31,
   "id": "answering-battlefield",
   "metadata": {},
   "outputs": [],
   "source": [
    "import os\n",
    "import sys\n",
    "sys.path.append('../')\n",
    "from search_world.utils.moog_utils import get_trial_paths, get_trial_dataframe\n",
    "import matplotlib.pyplot as plt\n",
    "from matplotlib import cm"
   ]
  },
  {
   "cell_type": "code",
   "execution_count": 85,
   "id": "incoming-sentence",
   "metadata": {},
   "outputs": [],
   "source": [
    "DATASETS = ['/Users/aidapiccato/search-world-1/logs/symm_corr/0/2021_11_09_15_24_12']"
   ]
  },
  {
   "cell_type": "code",
   "execution_count": 109,
   "id": "automated-carbon",
   "metadata": {},
   "outputs": [],
   "source": [
    "\n",
    "for trial_paths in dataset_trial_paths[1:]:\n",
    "    dataset_index += 1\n",
    "    new_df = get_trial_dataframe.get_trial_dataframe(trial_paths, dataset_index=dataset_index)\n",
    "    trial_df = trial_df.append(new_df, ignore_index=True)"
   ]
  },
  {
   "cell_type": "code",
   "execution_count": 110,
   "id": "underlying-income",
   "metadata": {
    "scrolled": false
   },
   "outputs": [
    {
     "name": "stdout",
     "output_type": "stream",
     "text": [
      "2021_11_09_15_24_12\n",
      "Number of trials:  2\n"
     ]
    }
   ],
   "source": [
    "dataset_trial_paths = []\n",
    "for i, path in enumerate(DATASETS):\n",
    "    print(os.path.basename(path))\n",
    "    trial_paths = get_trial_paths(path)\n",
    "    dataset_trial_paths.append(trial_paths)\n"
   ]
  },
  {
   "cell_type": "code",
   "execution_count": 117,
   "id": "accomplished-heading",
   "metadata": {},
   "outputs": [
    {
     "name": "stdout",
     "output_type": "stream",
     "text": [
      "TAKING AN ACTION\n",
      "0 3 3 {'agent_state': 1}\n",
      "TAKING AN ACTION\n",
      "1 0 3 {'agent_state': 4}\n",
      "TAKING AN ACTION\n",
      "2 5 3 {'agent_state': 8}\n",
      "TAKING AN ACTION\n",
      "0 3 3 {'agent_state': 1}\n",
      "TAKING AN ACTION\n",
      "1 0 3 {'agent_state': 4}\n",
      "TAKING AN ACTION\n",
      "2 5 3 {'agent_state': 8}\n",
      "TAKING AN ACTION\n",
      "3 7 3 {'agent_state': 12}\n"
     ]
    }
   ],
   "source": [
    "## Get trial dataframe\n",
    "\n",
    "dataset_index = 0\n",
    "trial_df = get_trial_dataframe(dataset_trial_paths[0], dataset_index=dataset_index)"
   ]
  },
  {
   "cell_type": "code",
   "execution_count": 119,
   "id": "informative-haven",
   "metadata": {},
   "outputs": [
    {
     "data": {
      "text/html": [
       "<div>\n",
       "<style scoped>\n",
       "    .dataframe tbody tr th:only-of-type {\n",
       "        vertical-align: middle;\n",
       "    }\n",
       "\n",
       "    .dataframe tbody tr th {\n",
       "        vertical-align: top;\n",
       "    }\n",
       "\n",
       "    .dataframe thead th {\n",
       "        text-align: right;\n",
       "    }\n",
       "</style>\n",
       "<table border=\"1\" class=\"dataframe\">\n",
       "  <thead>\n",
       "    <tr style=\"text-align: right;\">\n",
       "      <th></th>\n",
       "      <th>trial_dict</th>\n",
       "      <th>time</th>\n",
       "      <th>prey</th>\n",
       "      <th>grid_side</th>\n",
       "      <th>half_grid_side</th>\n",
       "      <th>maze_size</th>\n",
       "      <th>y_vertex_min</th>\n",
       "      <th>maze_array</th>\n",
       "      <th>length</th>\n",
       "      <th>n_corr</th>\n",
       "      <th>...</th>\n",
       "      <th>actions</th>\n",
       "      <th>action_times</th>\n",
       "      <th>obs</th>\n",
       "      <th>reward</th>\n",
       "      <th>done</th>\n",
       "      <th>step</th>\n",
       "      <th>info</th>\n",
       "      <th>name</th>\n",
       "      <th>trial_index</th>\n",
       "      <th>dataset_index</th>\n",
       "    </tr>\n",
       "  </thead>\n",
       "  <tbody>\n",
       "    <tr>\n",
       "      <th>0</th>\n",
       "      <td>[[[time, 1636489453.566568], [reward, 0.0], [s...</td>\n",
       "      <td>[0.0, 0.1307539939880371, 0.24933505058288574,...</td>\n",
       "      <td>[6.0, 3.999999999999999]</td>\n",
       "      <td>0.045455</td>\n",
       "      <td>0.022727</td>\n",
       "      <td>11</td>\n",
       "      <td>0.073353</td>\n",
       "      <td>[[1, 1, 1, 1, 1, 1, 1, 1, 1, 1, 1], [1, 1, 1, ...</td>\n",
       "      <td>5</td>\n",
       "      <td>3</td>\n",
       "      <td>...</td>\n",
       "      <td>[3, 3, 3]</td>\n",
       "      <td>[1636489456.8502212, 1636489457.980277, 163648...</td>\n",
       "      <td>[3, 0, 5, 7]</td>\n",
       "      <td>[-3, -3, -3, 10]</td>\n",
       "      <td>[False, False, False, True]</td>\n",
       "      <td>[0, 0, 1, 2]</td>\n",
       "      <td>[{'agent_state': 1}, {'agent_state': 4}, {'age...</td>\n",
       "      <td>Human</td>\n",
       "      <td>0</td>\n",
       "      <td>0</td>\n",
       "    </tr>\n",
       "    <tr>\n",
       "      <th>1</th>\n",
       "      <td>[[[time, 1636489460.1061702], [reward, None], ...</td>\n",
       "      <td>[0.0, 0.08572578430175781, 0.17017865180969238...</td>\n",
       "      <td>[7.000000000000001, 4.000000000000001]</td>\n",
       "      <td>0.045455</td>\n",
       "      <td>0.022727</td>\n",
       "      <td>11</td>\n",
       "      <td>0.359027</td>\n",
       "      <td>[[1, 1, 1, 1, 1, 1, 1, 1, 1, 1, 1], [1, 1, 1, ...</td>\n",
       "      <td>5</td>\n",
       "      <td>3</td>\n",
       "      <td>...</td>\n",
       "      <td>[3, 3, 3, 3]</td>\n",
       "      <td>[1636489460.8544571, 1636489460.935452, 163648...</td>\n",
       "      <td>[3, 0, 5, 7, 1]</td>\n",
       "      <td>[-3, -3, -3, 10, -3]</td>\n",
       "      <td>[False, False, False, True, False]</td>\n",
       "      <td>[0, 0, 1, 2, 3]</td>\n",
       "      <td>[{'agent_state': 1}, {'agent_state': 4}, {'age...</td>\n",
       "      <td>Human</td>\n",
       "      <td>1</td>\n",
       "      <td>0</td>\n",
       "    </tr>\n",
       "  </tbody>\n",
       "</table>\n",
       "<p>2 rows × 23 columns</p>\n",
       "</div>"
      ],
      "text/plain": [
       "                                          trial_dict  \\\n",
       "0  [[[time, 1636489453.566568], [reward, 0.0], [s...   \n",
       "1  [[[time, 1636489460.1061702], [reward, None], ...   \n",
       "\n",
       "                                                time  \\\n",
       "0  [0.0, 0.1307539939880371, 0.24933505058288574,...   \n",
       "1  [0.0, 0.08572578430175781, 0.17017865180969238...   \n",
       "\n",
       "                                     prey  grid_side  half_grid_side  \\\n",
       "0                [6.0, 3.999999999999999]   0.045455        0.022727   \n",
       "1  [7.000000000000001, 4.000000000000001]   0.045455        0.022727   \n",
       "\n",
       "   maze_size  y_vertex_min                                         maze_array  \\\n",
       "0         11      0.073353  [[1, 1, 1, 1, 1, 1, 1, 1, 1, 1, 1], [1, 1, 1, ...   \n",
       "1         11      0.359027  [[1, 1, 1, 1, 1, 1, 1, 1, 1, 1, 1], [1, 1, 1, ...   \n",
       "\n",
       "   length  n_corr  ...       actions  \\\n",
       "0       5       3  ...     [3, 3, 3]   \n",
       "1       5       3  ...  [3, 3, 3, 3]   \n",
       "\n",
       "                                        action_times              obs  \\\n",
       "0  [1636489456.8502212, 1636489457.980277, 163648...     [3, 0, 5, 7]   \n",
       "1  [1636489460.8544571, 1636489460.935452, 163648...  [3, 0, 5, 7, 1]   \n",
       "\n",
       "                 reward                                done             step  \\\n",
       "0      [-3, -3, -3, 10]         [False, False, False, True]     [0, 0, 1, 2]   \n",
       "1  [-3, -3, -3, 10, -3]  [False, False, False, True, False]  [0, 0, 1, 2, 3]   \n",
       "\n",
       "                                                info   name trial_index  \\\n",
       "0  [{'agent_state': 1}, {'agent_state': 4}, {'age...  Human           0   \n",
       "1  [{'agent_state': 1}, {'agent_state': 4}, {'age...  Human           1   \n",
       "\n",
       "  dataset_index  \n",
       "0             0  \n",
       "1             0  \n",
       "\n",
       "[2 rows x 23 columns]"
      ]
     },
     "execution_count": 119,
     "metadata": {},
     "output_type": "execute_result"
    }
   ],
   "source": [
    "trial_df"
   ]
  },
  {
   "cell_type": "code",
   "execution_count": 34,
   "id": "union-musical",
   "metadata": {},
   "outputs": [
    {
     "data": {
      "image/png": "[encoded data removed]",
      "text/plain": [
       "<Figure size 600x400 with 1 Axes>"
      ]
     },
     "metadata": {},
     "output_type": "display_data"
    }
   ],
   "source": [
    "def plot_maze(orig_maze_array, prey_pos, agent_pos):\n",
    "    f = plt.figure(dpi=100)\n",
    "    plt.imshow(np.flip(np.stack(orig_maze_array), axis=0), cmap='binary_r')\n",
    "    prey = plt.Circle(prey_pos, color='y', radius=0.25)\n",
    "    agent_pos = agent_pos\n",
    "    cmap = [cm.get_cmap('Greens_r', len(agent_pos))(i) for i in range(len(agent_pos))]\n",
    "    plt.gca().add_patch(prey)    \n",
    "    agent_pos = np.stack(agent_pos)\n",
    "    plt.scatter(agent_pos[:, 0], agent_pos[:, 1], c=cmap,  s=20)\n",
    "    plt.gca().set_yticks([])\n",
    "    plt.gca().set_xticks([])\n",
    "\n",
    "trial_idx = 2\n",
    "plot_maze(np.flip(trial_df.iloc[trial_idx].maze_array, axis=0), trial_df.iloc[trial_idx].prey, trial_df.iloc[trial_idx].agent)"
   ]
  }
 ],
 "metadata": {
  "kernelspec": {
   "display_name": "py3",
   "language": "python",
   "name": "py3"
  },
  "language_info": {
   "codemirror_mode": {
    "name": "ipython",
    "version": 3
   },
   "file_extension": ".py",
   "mimetype": "text/x-python",
   "name": "python",
   "nbconvert_exporter": "python",
   "pygments_lexer": "ipython3",
   "version": "3.8.5"
  },
  "toc": {
   "base_numbering": 1,
   "nav_menu": {},
   "number_sections": true,
   "sideBar": true,
   "skip_h1_title": false,
   "title_cell": "Table of Contents",
   "title_sidebar": "Contents",
   "toc_cell": true,
   "toc_position": {},
   "toc_section_display": true,
   "toc_window_display": false
  },
  "varInspector": {
   "cols": {
    "lenName": 16,
    "lenType": 16,
    "lenVar": 40
   },
   "kernels_config": {
    "python": {
     "delete_cmd_postfix": "",
     "delete_cmd_prefix": "del ",
     "library": "var_list.py",
     "varRefreshCmd": "print(var_dic_list())"
    },
    "r": {
     "delete_cmd_postfix": ") ",
     "delete_cmd_prefix": "rm(",
     "library": "var_list.r",
     "varRefreshCmd": "cat(var_dic_list()) "
    }
   },
   "types_to_exclude": [
    "module",
    "function",
    "builtin_function_or_method",
    "instance",
    "_Feature"
   ],
   "window_display": false
  }
 },
 "nbformat": 4,
 "nbformat_minor": 5
}
